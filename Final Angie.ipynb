{
 "cells": [
  {
   "cell_type": "markdown",
   "id": "2df02883",
   "metadata": {},
   "source": [
    "##  Bank Marketing Campaign dataset\n",
    "####  Introduction\n",
    "\n",
    "This is dataset that describe Portugal bank marketing campaigns results.The conducted campaigns were based mostly on direct phone calls, offering the bank's clients to place a term deposit. If after all marking afforts client had agreed to place deposit - target variable marked 'yes', otherwise 'no'.\n",
    "\n",
    "Term Deposits are one of the best investment options for people who are looking for a stable and safe return on their investments. For term Deposits, the sum of money is kept for a fixed maturity and the depositor is not allowed to withdraw this sum till the end of the maturity period."
   ]
  },
  {
   "cell_type": "markdown",
   "id": "097e2e38",
   "metadata": {},
   "source": [
    "##  Details of the Dataset\n",
    "Sources:https://archive.ics.uci.edu/ml/datasets/bank+marketing\n",
    "\n",
    "Citation Request :[Moro et al., 2014] S. Moro, P. Cortez and P. Rita. A Data-Driven Approach to Predict the Success of Bank Telemarketing. Decision Support Systems, Elsevier, 62:22-31, June 2014"
   ]
  },
  {
   "cell_type": "markdown",
   "id": "20845332",
   "metadata": {},
   "source": [
    "##  Problem Statement\n",
    "To develop a model that will be used to predict if a client can subscribe to the term deposit or not.\n",
    "\n"
   ]
  },
  {
   "cell_type": "markdown",
   "id": "025afabd",
   "metadata": {},
   "source": []
  },
  {
   "cell_type": "raw",
   "id": "942a32fb",
   "metadata": {},
   "source": [
    "Attributes Description\n",
    "We have a total of 17 attributes;\n",
    "\n",
    "1.age\n",
    "2.job : type of job\n",
    "3.marital : marital status \n",
    "4.education (education level)\n",
    "5. default: has credit in default? \n",
    "6.Balane ; clients bank balance in account\n",
    "7. housing: has housing loan?\n",
    "8. loan: has personal loan? (categorical: 'no','yes','unknown')\n",
    "9. contact: contact communication type \n",
    "10.  day: the day of the week when client was contacted\n",
    "11. month : month of contact\n",
    "12. duration: last contact duration, in seconds \n",
    "13. campaign: number of contacts performed during this campaign and for this client\n",
    "14. pdays: number of days that passed by after the client was last contacted from a previous campaign \n",
    "15. previous: number of contacts performed before this campaign and for this client \n",
    "16. poutcome: outcome of the previous marketing campaign \n",
    "17. Deposit shows has the client subscribed to the term deposit yes or no\n"
   ]
  },
  {
   "cell_type": "code",
   "execution_count": null,
   "id": "b23f8b79",
   "metadata": {},
   "outputs": [],
   "source": []
  },
  {
   "cell_type": "markdown",
   "id": "ab27073d",
   "metadata": {},
   "source": [
    "##  Import Libraries"
   ]
  },
  {
   "cell_type": "code",
   "execution_count": 1,
   "id": "355a73c9",
   "metadata": {},
   "outputs": [],
   "source": [
    "## Standard libraries\n",
    "import pandas as pd\n",
    "import numpy as np\n",
    "import seaborn as sns\n",
    "import matplotlib.pyplot as plt\n",
    "\n",
    "## Data pre-processing modules\n",
    "from sklearn.preprocessing import StandardScaler, MinMaxScaler, MaxAbsScaler, QuantileTransformer\n",
    "from sklearn.preprocessing import OneHotEncoder,LabelEncoder,OrdinalEncoder\n",
    "from sklearn.model_selection import train_test_split\n",
    "\n",
    "## classification algorithimns to use\n",
    "from sklearn.linear_model import LogisticRegression\n",
    "from sklearn.neighbors import KNeighborsClassifier\n",
    "from sklearn.ensemble import RandomForestClassifier\n",
    "from sklearn.naive_bayes import GaussianNB\n",
    "from sklearn.svm import SVC\n",
    "from sklearn.ensemble import BaggingClassifier\n",
    "from sklearn.tree import DecisionTreeClassifier\n",
    "\n",
    "from sklearn.feature_selection import SelectKBest, f_classif\n",
    "\n",
    "## hyperparameter tuning \n",
    "from sklearn.model_selection import GridSearchCV\n",
    "\n",
    "import warnings\n",
    "warnings.filterwarnings('ignore')"
   ]
  },
  {
   "cell_type": "code",
   "execution_count": 2,
   "id": "f719cbbe",
   "metadata": {},
   "outputs": [
    {
     "data": {
      "text/html": [
       "<div>\n",
       "<style scoped>\n",
       "    .dataframe tbody tr th:only-of-type {\n",
       "        vertical-align: middle;\n",
       "    }\n",
       "\n",
       "    .dataframe tbody tr th {\n",
       "        vertical-align: top;\n",
       "    }\n",
       "\n",
       "    .dataframe thead th {\n",
       "        text-align: right;\n",
       "    }\n",
       "</style>\n",
       "<table border=\"1\" class=\"dataframe\">\n",
       "  <thead>\n",
       "    <tr style=\"text-align: right;\">\n",
       "      <th></th>\n",
       "      <th>age</th>\n",
       "      <th>job</th>\n",
       "      <th>marital</th>\n",
       "      <th>education</th>\n",
       "      <th>default</th>\n",
       "      <th>balance</th>\n",
       "      <th>housing</th>\n",
       "      <th>loan</th>\n",
       "      <th>contact</th>\n",
       "      <th>day</th>\n",
       "      <th>month</th>\n",
       "      <th>duration</th>\n",
       "      <th>campaign</th>\n",
       "      <th>pdays</th>\n",
       "      <th>previous</th>\n",
       "      <th>poutcome</th>\n",
       "      <th>deposit</th>\n",
       "    </tr>\n",
       "  </thead>\n",
       "  <tbody>\n",
       "    <tr>\n",
       "      <th>0</th>\n",
       "      <td>59</td>\n",
       "      <td>admin.</td>\n",
       "      <td>married</td>\n",
       "      <td>secondary</td>\n",
       "      <td>no</td>\n",
       "      <td>2343</td>\n",
       "      <td>yes</td>\n",
       "      <td>no</td>\n",
       "      <td>unknown</td>\n",
       "      <td>5</td>\n",
       "      <td>may</td>\n",
       "      <td>1042</td>\n",
       "      <td>1</td>\n",
       "      <td>-1</td>\n",
       "      <td>0</td>\n",
       "      <td>unknown</td>\n",
       "      <td>yes</td>\n",
       "    </tr>\n",
       "    <tr>\n",
       "      <th>1</th>\n",
       "      <td>56</td>\n",
       "      <td>admin.</td>\n",
       "      <td>married</td>\n",
       "      <td>secondary</td>\n",
       "      <td>no</td>\n",
       "      <td>45</td>\n",
       "      <td>no</td>\n",
       "      <td>no</td>\n",
       "      <td>unknown</td>\n",
       "      <td>5</td>\n",
       "      <td>may</td>\n",
       "      <td>1467</td>\n",
       "      <td>1</td>\n",
       "      <td>-1</td>\n",
       "      <td>0</td>\n",
       "      <td>unknown</td>\n",
       "      <td>yes</td>\n",
       "    </tr>\n",
       "    <tr>\n",
       "      <th>2</th>\n",
       "      <td>41</td>\n",
       "      <td>technician</td>\n",
       "      <td>married</td>\n",
       "      <td>secondary</td>\n",
       "      <td>no</td>\n",
       "      <td>1270</td>\n",
       "      <td>yes</td>\n",
       "      <td>no</td>\n",
       "      <td>unknown</td>\n",
       "      <td>5</td>\n",
       "      <td>may</td>\n",
       "      <td>1389</td>\n",
       "      <td>1</td>\n",
       "      <td>-1</td>\n",
       "      <td>0</td>\n",
       "      <td>unknown</td>\n",
       "      <td>yes</td>\n",
       "    </tr>\n",
       "    <tr>\n",
       "      <th>3</th>\n",
       "      <td>55</td>\n",
       "      <td>services</td>\n",
       "      <td>married</td>\n",
       "      <td>secondary</td>\n",
       "      <td>no</td>\n",
       "      <td>2476</td>\n",
       "      <td>yes</td>\n",
       "      <td>no</td>\n",
       "      <td>unknown</td>\n",
       "      <td>5</td>\n",
       "      <td>may</td>\n",
       "      <td>579</td>\n",
       "      <td>1</td>\n",
       "      <td>-1</td>\n",
       "      <td>0</td>\n",
       "      <td>unknown</td>\n",
       "      <td>yes</td>\n",
       "    </tr>\n",
       "    <tr>\n",
       "      <th>4</th>\n",
       "      <td>54</td>\n",
       "      <td>admin.</td>\n",
       "      <td>married</td>\n",
       "      <td>tertiary</td>\n",
       "      <td>no</td>\n",
       "      <td>184</td>\n",
       "      <td>no</td>\n",
       "      <td>no</td>\n",
       "      <td>unknown</td>\n",
       "      <td>5</td>\n",
       "      <td>may</td>\n",
       "      <td>673</td>\n",
       "      <td>2</td>\n",
       "      <td>-1</td>\n",
       "      <td>0</td>\n",
       "      <td>unknown</td>\n",
       "      <td>yes</td>\n",
       "    </tr>\n",
       "  </tbody>\n",
       "</table>\n",
       "</div>"
      ],
      "text/plain": [
       "   age         job  marital  education default  balance housing loan  contact  \\\n",
       "0   59      admin.  married  secondary      no     2343     yes   no  unknown   \n",
       "1   56      admin.  married  secondary      no       45      no   no  unknown   \n",
       "2   41  technician  married  secondary      no     1270     yes   no  unknown   \n",
       "3   55    services  married  secondary      no     2476     yes   no  unknown   \n",
       "4   54      admin.  married   tertiary      no      184      no   no  unknown   \n",
       "\n",
       "   day month  duration  campaign  pdays  previous poutcome deposit  \n",
       "0    5   may      1042         1     -1         0  unknown     yes  \n",
       "1    5   may      1467         1     -1         0  unknown     yes  \n",
       "2    5   may      1389         1     -1         0  unknown     yes  \n",
       "3    5   may       579         1     -1         0  unknown     yes  \n",
       "4    5   may       673         2     -1         0  unknown     yes  "
      ]
     },
     "execution_count": 2,
     "metadata": {},
     "output_type": "execute_result"
    }
   ],
   "source": [
    "## To import dataset\n",
    "df=pd.read_csv(\"bank.csv\")\n",
    "df.head()"
   ]
  },
  {
   "cell_type": "code",
   "execution_count": 3,
   "id": "8f1f4947",
   "metadata": {},
   "outputs": [
    {
     "data": {
      "text/plain": [
       "(age          0\n",
       " job          0\n",
       " marital      0\n",
       " education    0\n",
       " default      0\n",
       " balance      0\n",
       " housing      0\n",
       " loan         0\n",
       " contact      0\n",
       " day          0\n",
       " month        0\n",
       " duration     0\n",
       " campaign     0\n",
       " pdays        0\n",
       " previous     0\n",
       " poutcome     0\n",
       " deposit      0\n",
       " dtype: int64,\n",
       " age           int64\n",
       " job          object\n",
       " marital      object\n",
       " education    object\n",
       " default      object\n",
       " balance       int64\n",
       " housing      object\n",
       " loan         object\n",
       " contact      object\n",
       " day           int64\n",
       " month        object\n",
       " duration      int64\n",
       " campaign      int64\n",
       " pdays         int64\n",
       " previous      int64\n",
       " poutcome     object\n",
       " deposit      object\n",
       " dtype: object,\n",
       " (11162, 17))"
      ]
     },
     "execution_count": 3,
     "metadata": {},
     "output_type": "execute_result"
    }
   ],
   "source": [
    "## To check missing values, data types, shape\n",
    "df.isnull().sum(), df.dtypes, df.shape"
   ]
  },
  {
   "cell_type": "markdown",
   "id": "69ecb8d8",
   "metadata": {},
   "source": [
    "## \n",
    "1. No missing valuess,\n",
    "2. We have 11,162 rows with 17 attributes"
   ]
  },
  {
   "cell_type": "code",
   "execution_count": 4,
   "id": "937b22ac",
   "metadata": {},
   "outputs": [
    {
     "data": {
      "text/html": [
       "<div>\n",
       "<style scoped>\n",
       "    .dataframe tbody tr th:only-of-type {\n",
       "        vertical-align: middle;\n",
       "    }\n",
       "\n",
       "    .dataframe tbody tr th {\n",
       "        vertical-align: top;\n",
       "    }\n",
       "\n",
       "    .dataframe thead th {\n",
       "        text-align: right;\n",
       "    }\n",
       "</style>\n",
       "<table border=\"1\" class=\"dataframe\">\n",
       "  <thead>\n",
       "    <tr style=\"text-align: right;\">\n",
       "      <th></th>\n",
       "      <th>age</th>\n",
       "      <th>balance</th>\n",
       "      <th>day</th>\n",
       "      <th>duration</th>\n",
       "      <th>campaign</th>\n",
       "      <th>pdays</th>\n",
       "      <th>previous</th>\n",
       "    </tr>\n",
       "  </thead>\n",
       "  <tbody>\n",
       "    <tr>\n",
       "      <th>count</th>\n",
       "      <td>11162.000000</td>\n",
       "      <td>11162.000000</td>\n",
       "      <td>11162.000000</td>\n",
       "      <td>11162.000000</td>\n",
       "      <td>11162.000000</td>\n",
       "      <td>11162.000000</td>\n",
       "      <td>11162.000000</td>\n",
       "    </tr>\n",
       "    <tr>\n",
       "      <th>mean</th>\n",
       "      <td>41.231948</td>\n",
       "      <td>1528.538524</td>\n",
       "      <td>15.658036</td>\n",
       "      <td>371.993818</td>\n",
       "      <td>2.508421</td>\n",
       "      <td>51.330407</td>\n",
       "      <td>0.832557</td>\n",
       "    </tr>\n",
       "    <tr>\n",
       "      <th>std</th>\n",
       "      <td>11.913369</td>\n",
       "      <td>3225.413326</td>\n",
       "      <td>8.420740</td>\n",
       "      <td>347.128386</td>\n",
       "      <td>2.722077</td>\n",
       "      <td>108.758282</td>\n",
       "      <td>2.292007</td>\n",
       "    </tr>\n",
       "    <tr>\n",
       "      <th>min</th>\n",
       "      <td>18.000000</td>\n",
       "      <td>-6847.000000</td>\n",
       "      <td>1.000000</td>\n",
       "      <td>2.000000</td>\n",
       "      <td>1.000000</td>\n",
       "      <td>-1.000000</td>\n",
       "      <td>0.000000</td>\n",
       "    </tr>\n",
       "    <tr>\n",
       "      <th>25%</th>\n",
       "      <td>32.000000</td>\n",
       "      <td>122.000000</td>\n",
       "      <td>8.000000</td>\n",
       "      <td>138.000000</td>\n",
       "      <td>1.000000</td>\n",
       "      <td>-1.000000</td>\n",
       "      <td>0.000000</td>\n",
       "    </tr>\n",
       "    <tr>\n",
       "      <th>50%</th>\n",
       "      <td>39.000000</td>\n",
       "      <td>550.000000</td>\n",
       "      <td>15.000000</td>\n",
       "      <td>255.000000</td>\n",
       "      <td>2.000000</td>\n",
       "      <td>-1.000000</td>\n",
       "      <td>0.000000</td>\n",
       "    </tr>\n",
       "    <tr>\n",
       "      <th>75%</th>\n",
       "      <td>49.000000</td>\n",
       "      <td>1708.000000</td>\n",
       "      <td>22.000000</td>\n",
       "      <td>496.000000</td>\n",
       "      <td>3.000000</td>\n",
       "      <td>20.750000</td>\n",
       "      <td>1.000000</td>\n",
       "    </tr>\n",
       "    <tr>\n",
       "      <th>max</th>\n",
       "      <td>95.000000</td>\n",
       "      <td>81204.000000</td>\n",
       "      <td>31.000000</td>\n",
       "      <td>3881.000000</td>\n",
       "      <td>63.000000</td>\n",
       "      <td>854.000000</td>\n",
       "      <td>58.000000</td>\n",
       "    </tr>\n",
       "  </tbody>\n",
       "</table>\n",
       "</div>"
      ],
      "text/plain": [
       "                age       balance           day      duration      campaign  \\\n",
       "count  11162.000000  11162.000000  11162.000000  11162.000000  11162.000000   \n",
       "mean      41.231948   1528.538524     15.658036    371.993818      2.508421   \n",
       "std       11.913369   3225.413326      8.420740    347.128386      2.722077   \n",
       "min       18.000000  -6847.000000      1.000000      2.000000      1.000000   \n",
       "25%       32.000000    122.000000      8.000000    138.000000      1.000000   \n",
       "50%       39.000000    550.000000     15.000000    255.000000      2.000000   \n",
       "75%       49.000000   1708.000000     22.000000    496.000000      3.000000   \n",
       "max       95.000000  81204.000000     31.000000   3881.000000     63.000000   \n",
       "\n",
       "              pdays      previous  \n",
       "count  11162.000000  11162.000000  \n",
       "mean      51.330407      0.832557  \n",
       "std      108.758282      2.292007  \n",
       "min       -1.000000      0.000000  \n",
       "25%       -1.000000      0.000000  \n",
       "50%       -1.000000      0.000000  \n",
       "75%       20.750000      1.000000  \n",
       "max      854.000000     58.000000  "
      ]
     },
     "execution_count": 4,
     "metadata": {},
     "output_type": "execute_result"
    }
   ],
   "source": [
    "df.describe()"
   ]
  },
  {
   "cell_type": "code",
   "execution_count": null,
   "id": "a382f696",
   "metadata": {},
   "outputs": [],
   "source": []
  },
  {
   "cell_type": "code",
   "execution_count": 6,
   "id": "3d462ecd",
   "metadata": {},
   "outputs": [
    {
     "data": {
      "image/png": "[encoded data removed]",
      "text/plain": [
       "<Figure size 360x360 with 1 Axes>"
      ]
     },
     "metadata": {
      "needs_background": "light"
     },
     "output_type": "display_data"
    }
   ],
   "source": [
    "### To check if the target is balanced\n",
    "\n",
    "y_data=sns.catplot(data=df,x=\"deposit\",kind=\"count\")\n",
    "y_data.fig.suptitle(\"Comparison of Clients who did subscription and those who didn't\")\n",
    "sns.set_style(\"darkgrid\")"
   ]
  },
  {
   "cell_type": "markdown",
   "id": "01fbde67",
   "metadata": {},
   "source": [
    "##   Insights from above\n",
    "  1. Our dataframe is balanced\n",
    "  "
   ]
  },
  {
   "cell_type": "markdown",
   "id": "e86d08c3",
   "metadata": {},
   "source": [
    "### Categorical analysis"
   ]
  },
  {
   "cell_type": "code",
   "execution_count": 6,
   "id": "183cc3e6",
   "metadata": {},
   "outputs": [
    {
     "data": {
      "image/png": "[encoded data removed]",
      "text/plain": [
       "<Figure size 411.625x360 with 1 Axes>"
      ]
     },
     "metadata": {},
     "output_type": "display_data"
    }
   ],
   "source": [
    "\n",
    "contact_y=sns.catplot(x=\"contact\",hue=\"deposit\",data=df,kind=\"count\")\n",
    "contact_y.fig.suptitle(\"Analysis of how clients were contacted in relation to y\")\n",
    "sns.set_style(\"darkgrid\")"
   ]
  },
  {
   "cell_type": "markdown",
   "id": "e81e6671",
   "metadata": {},
   "source": [
    "###  Insight\n",
    "1. There were two known channels for contacting clients; cellular and telephone while there was the unknown channel\n",
    "2. 2.Clients who subscribed more to the term deposit are those who were contacted via cellular, then followed by uknwown then via telephone\n",
    "3. Clients who subscribed and did not subscribe to the term deposit via telephone  contact channel are the same in number"
   ]
  },
  {
   "cell_type": "code",
   "execution_count": 44,
   "id": "ecb83ad1",
   "metadata": {},
   "outputs": [
    {
     "data": {
      "image/png": "[encoded data removed]",
      "text/plain": [
       "<Figure size 401.625x360 with 1 Axes>"
      ]
     },
     "metadata": {},
     "output_type": "display_data"
    }
   ],
   "source": [
    "contact_y=sns.catplot(x=\"contact\",y=\"duration\",hue=\"deposit\",data=df,kind=\"bar\")\n",
    "contact_y.fig.suptitle(\"Analysis of how clients were contacted in relation to deposit\")\n",
    "sns.set_style(\"darkgrid\")"
   ]
  },
  {
   "cell_type": "markdown",
   "id": "05187d44",
   "metadata": {},
   "source": []
  },
  {
   "cell_type": "code",
   "execution_count": 8,
   "id": "3269c186",
   "metadata": {},
   "outputs": [
    {
     "name": "stdout",
     "output_type": "stream",
     "text": [
      "deposit     no   yes\n",
      "marital             \n",
      "divorced   671   622\n",
      "married   3596  2755\n",
      "single    1606  1912\n"
     ]
    },
    {
     "data": {
      "text/plain": [
       "<AxesSubplot:xlabel='marital'>"
      ]
     },
     "execution_count": 8,
     "metadata": {},
     "output_type": "execute_result"
    },
    {
     "data": {
      "image/png": "[encoded data removed]",
      "text/plain": [
       "<Figure size 432x288 with 1 Axes>"
      ]
     },
     "metadata": {},
     "output_type": "display_data"
    }
   ],
   "source": [
    "crosstb = pd.crosstab(df.marital, df.deposit)\n",
    "print(crosstb)\n",
    "crosstb.plot.bar(rot=0)\n"
   ]
  },
  {
   "cell_type": "markdown",
   "id": "3e313823",
   "metadata": {},
   "source": [
    "### Observation\n",
    "1.Married people subscribed more to the term deposit than the divorced people. \n"
   ]
  },
  {
   "cell_type": "code",
   "execution_count": 9,
   "id": "c20d0ede",
   "metadata": {},
   "outputs": [
    {
     "name": "stdout",
     "output_type": "stream",
     "text": [
      "deposit    no   yes\n",
      "housing            \n",
      "no       2527  3354\n",
      "yes      3346  1935\n"
     ]
    },
    {
     "data": {
      "text/plain": [
       "<AxesSubplot:xlabel='housing'>"
      ]
     },
     "execution_count": 9,
     "metadata": {},
     "output_type": "execute_result"
    },
    {
     "data": {
      "image/png": "[encoded data removed]",
      "text/plain": [
       "<Figure size 432x288 with 1 Axes>"
      ]
     },
     "metadata": {},
     "output_type": "display_data"
    }
   ],
   "source": [
    "crosstbb = pd.crosstab(df.housing, df.deposit)\n",
    "\n",
    "print(crosstbb)\n",
    "\n",
    "crosstbb.plot.bar(rot=0)"
   ]
  },
  {
   "cell_type": "code",
   "execution_count": 10,
   "id": "24ec8cd6",
   "metadata": {},
   "outputs": [
    {
     "name": "stdout",
     "output_type": "stream",
     "text": [
      "deposit    no  yes\n",
      "month             \n",
      "apr       346  577\n",
      "aug       831  688\n",
      "dec        10  100\n",
      "feb       335  441\n",
      "jan       202  142\n",
      "jul       887  627\n",
      "jun       676  546\n",
      "mar        28  248\n",
      "may      1899  925\n",
      "nov       540  403\n",
      "oct        69  323\n",
      "sep        50  269\n"
     ]
    },
    {
     "data": {
      "text/plain": [
       "<AxesSubplot:xlabel='month'>"
      ]
     },
     "execution_count": 10,
     "metadata": {},
     "output_type": "execute_result"
    },
    {
     "data": {
      "image/png": "[encoded data removed]",
      "text/plain": [
       "<Figure size 432x288 with 1 Axes>"
      ]
     },
     "metadata": {},
     "output_type": "display_data"
    }
   ],
   "source": [
    "crosstbm = pd.crosstab(df.month, df.deposit)\n",
    "\n",
    "print(crosstbm)\n",
    "\n",
    "crosstbm.plot.bar(rot=0)"
   ]
  },
  {
   "cell_type": "markdown",
   "id": "ee228b62",
   "metadata": {},
   "source": [
    "#### There is a clear relation between month and deposit\n",
    "####  Highest subscription was in the months of May,Aug, July and June"
   ]
  },
  {
   "cell_type": "code",
   "execution_count": 11,
   "id": "633319b3",
   "metadata": {},
   "outputs": [
    {
     "data": {
      "image/png": "[encoded data removed]",
      "text/plain": [
       "<Figure size 360x360 with 1 Axes>"
      ]
     },
     "metadata": {},
     "output_type": "display_data"
    }
   ],
   "source": [
    "contact_y=sns.catplot(x=\"month\",y=\"campaign\",data=df,kind=\"bar\")\n",
    "contact_y.fig.suptitle(\"Analysis of how clients were contacted in relation to y\")\n",
    "sns.set_style(\"darkgrid\")"
   ]
  },
  {
   "cell_type": "markdown",
   "id": "e1edd270",
   "metadata": {},
   "source": [
    "#### Highest  campaigns were done in the month of August,july, june and may.\n",
    "####  Least campaigns were done in October\n",
    "#### In the months where there was a highest campaign, it had a direct impact on subscripition to the term deposit "
   ]
  },
  {
   "cell_type": "markdown",
   "id": "8180dbc5",
   "metadata": {},
   "source": [
    "## Numerical Analysis"
   ]
  },
  {
   "cell_type": "code",
   "execution_count": 12,
   "id": "960dc599",
   "metadata": {},
   "outputs": [
    {
     "data": {
      "text/plain": [
       "array([[<AxesSubplot:title={'center':'age'}>,\n",
       "        <AxesSubplot:title={'center':'balance'}>,\n",
       "        <AxesSubplot:title={'center':'day'}>],\n",
       "       [<AxesSubplot:title={'center':'duration'}>,\n",
       "        <AxesSubplot:title={'center':'campaign'}>,\n",
       "        <AxesSubplot:title={'center':'pdays'}>],\n",
       "       [<AxesSubplot:title={'center':'previous'}>, <AxesSubplot:>,\n",
       "        <AxesSubplot:>]], dtype=object)"
      ]
     },
     "execution_count": 12,
     "metadata": {},
     "output_type": "execute_result"
    },
    {
     "data": {
      "image/png": "[encoded data removed]",
      "text/plain": [
       "<Figure size 864x864 with 9 Axes>"
      ]
     },
     "metadata": {},
     "output_type": "display_data"
    }
   ],
   "source": [
    "#### To see the distribution of numerical data\n",
    "df.hist(figsize=(12,12))"
   ]
  },
  {
   "cell_type": "code",
   "execution_count": null,
   "id": "6f095fea",
   "metadata": {},
   "outputs": [],
   "source": []
  },
  {
   "cell_type": "code",
   "execution_count": 13,
   "id": "9589512b",
   "metadata": {},
   "outputs": [
    {
     "data": {
      "image/png": "[encoded data removed]",
      "text/plain": [
       "<Figure size 432x288 with 1 Axes>"
      ]
     },
     "metadata": {},
     "output_type": "display_data"
    }
   ],
   "source": [
    "## ##  To check out on outliers\n",
    "df.boxplot( grid = True)\n",
    "figsize=(14,14)    "
   ]
  },
  {
   "cell_type": "markdown",
   "id": "4074b0cb",
   "metadata": {},
   "source": [
    "#### We have outliers in balance,age, duration pdys and previous. Balance having the greatest outliers"
   ]
  },
  {
   "cell_type": "code",
   "execution_count": null,
   "id": "eee37e90",
   "metadata": {},
   "outputs": [],
   "source": []
  },
  {
   "cell_type": "code",
   "execution_count": 14,
   "id": "54efb7f6",
   "metadata": {},
   "outputs": [
    {
     "data": {
      "text/plain": [
       "<AxesSubplot:xlabel='age'>"
      ]
     },
     "execution_count": 14,
     "metadata": {},
     "output_type": "execute_result"
    },
    {
     "data": {
      "image/png": "[encoded data removed]",
      "text/plain": [
       "<Figure size 432x288 with 1 Axes>"
      ]
     },
     "metadata": {},
     "output_type": "display_data"
    }
   ],
   "source": [
    "sns.boxplot(df[\"age\"])"
   ]
  },
  {
   "cell_type": "code",
   "execution_count": 15,
   "id": "9985fc81",
   "metadata": {},
   "outputs": [
    {
     "data": {
      "text/plain": [
       "<AxesSubplot:xlabel='balance', ylabel='age'>"
      ]
     },
     "execution_count": 15,
     "metadata": {},
     "output_type": "execute_result"
    },
    {
     "data": {
      "image/png": "[encoded data removed]",
      "text/plain": [
       "<Figure size 432x288 with 1 Axes>"
      ]
     },
     "metadata": {},
     "output_type": "display_data"
    }
   ],
   "source": [
    "sns.scatterplot(x=\"balance\",y=\"age\",data=df)"
   ]
  },
  {
   "cell_type": "markdown",
   "id": "cff427cb",
   "metadata": {},
   "source": [
    "## OBSERVATION\n",
    "#### Client with highest balance is old age\n",
    "#### looking at the above distribution of balance vs age.balance between 0- 40,000 is highly scattered. \n",
    "#### Values above 40,000 and less 0 will be treated as outliers\n",
    "####  In age, above 80 years, they are less scatttered and therefore we treat them as outliers."
   ]
  },
  {
   "cell_type": "markdown",
   "id": "27c7b4fc",
   "metadata": {},
   "source": [
    "## Data Preprocessing"
   ]
  },
  {
   "cell_type": "markdown",
   "id": "3ba3cd56",
   "metadata": {},
   "source": [
    "## 1.Categorical Encoding"
   ]
  },
  {
   "cell_type": "code",
   "execution_count": 17,
   "id": "a97595e2",
   "metadata": {},
   "outputs": [
    {
     "data": {
      "text/plain": [
       "age             int64\n",
       "job          category\n",
       "marital      category\n",
       "education    category\n",
       "default      category\n",
       "balance         int64\n",
       "housing      category\n",
       "loan         category\n",
       "contact      category\n",
       "day             int64\n",
       "month        category\n",
       "duration        int64\n",
       "campaign        int64\n",
       "pdays           int64\n",
       "previous        int64\n",
       "poutcome     category\n",
       "deposit      category\n",
       "dtype: object"
      ]
     },
     "execution_count": 17,
     "metadata": {},
     "output_type": "execute_result"
    }
   ],
   "source": [
    "##  to convert objects into category dtype\n",
    "\n",
    "for label, content in df.items():\n",
    "    if pd.api.types.is_string_dtype(content):\n",
    "        df[label] = content.astype(\"category\").cat.as_ordered()\n",
    "df.dtypes"
   ]
  },
  {
   "cell_type": "code",
   "execution_count": 18,
   "id": "b507e1ca",
   "metadata": {},
   "outputs": [],
   "source": [
    "l=['loan',\"deposit\",\"housing\",\"default\"]\n",
    "for i in l:\n",
    "    le=LabelEncoder()\n",
    "    df[i]=le.fit_transform(df[i].values)"
   ]
  },
  {
   "cell_type": "code",
   "execution_count": 19,
   "id": "4ef51518",
   "metadata": {},
   "outputs": [],
   "source": [
    "li=[\"month\",\"poutcome\",\"contact\"]\n",
    "for i in li:\n",
    "    oh=OneHotEncoder()\n",
    "    df[i]=le.fit_transform(df[i].values)"
   ]
  },
  {
   "cell_type": "code",
   "execution_count": 20,
   "id": "19136156",
   "metadata": {},
   "outputs": [],
   "source": [
    "df=pd.get_dummies(df,columns=[\"job\",\"marital\",\"education\"])"
   ]
  },
  {
   "cell_type": "code",
   "execution_count": 21,
   "id": "f8ac4bc3",
   "metadata": {},
   "outputs": [
    {
     "data": {
      "text/html": [
       "<div>\n",
       "<style scoped>\n",
       "    .dataframe tbody tr th:only-of-type {\n",
       "        vertical-align: middle;\n",
       "    }\n",
       "\n",
       "    .dataframe tbody tr th {\n",
       "        vertical-align: top;\n",
       "    }\n",
       "\n",
       "    .dataframe thead th {\n",
       "        text-align: right;\n",
       "    }\n",
       "</style>\n",
       "<table border=\"1\" class=\"dataframe\">\n",
       "  <thead>\n",
       "    <tr style=\"text-align: right;\">\n",
       "      <th></th>\n",
       "      <th>age</th>\n",
       "      <th>default</th>\n",
       "      <th>balance</th>\n",
       "      <th>housing</th>\n",
       "      <th>loan</th>\n",
       "      <th>contact</th>\n",
       "      <th>day</th>\n",
       "      <th>month</th>\n",
       "      <th>duration</th>\n",
       "      <th>campaign</th>\n",
       "      <th>...</th>\n",
       "      <th>job_technician</th>\n",
       "      <th>job_unemployed</th>\n",
       "      <th>job_unknown</th>\n",
       "      <th>marital_divorced</th>\n",
       "      <th>marital_married</th>\n",
       "      <th>marital_single</th>\n",
       "      <th>education_primary</th>\n",
       "      <th>education_secondary</th>\n",
       "      <th>education_tertiary</th>\n",
       "      <th>education_unknown</th>\n",
       "    </tr>\n",
       "  </thead>\n",
       "  <tbody>\n",
       "    <tr>\n",
       "      <th>0</th>\n",
       "      <td>59</td>\n",
       "      <td>0</td>\n",
       "      <td>2343</td>\n",
       "      <td>1</td>\n",
       "      <td>0</td>\n",
       "      <td>2</td>\n",
       "      <td>5</td>\n",
       "      <td>8</td>\n",
       "      <td>1042</td>\n",
       "      <td>1</td>\n",
       "      <td>...</td>\n",
       "      <td>0</td>\n",
       "      <td>0</td>\n",
       "      <td>0</td>\n",
       "      <td>0</td>\n",
       "      <td>1</td>\n",
       "      <td>0</td>\n",
       "      <td>0</td>\n",
       "      <td>1</td>\n",
       "      <td>0</td>\n",
       "      <td>0</td>\n",
       "    </tr>\n",
       "    <tr>\n",
       "      <th>1</th>\n",
       "      <td>56</td>\n",
       "      <td>0</td>\n",
       "      <td>45</td>\n",
       "      <td>0</td>\n",
       "      <td>0</td>\n",
       "      <td>2</td>\n",
       "      <td>5</td>\n",
       "      <td>8</td>\n",
       "      <td>1467</td>\n",
       "      <td>1</td>\n",
       "      <td>...</td>\n",
       "      <td>0</td>\n",
       "      <td>0</td>\n",
       "      <td>0</td>\n",
       "      <td>0</td>\n",
       "      <td>1</td>\n",
       "      <td>0</td>\n",
       "      <td>0</td>\n",
       "      <td>1</td>\n",
       "      <td>0</td>\n",
       "      <td>0</td>\n",
       "    </tr>\n",
       "    <tr>\n",
       "      <th>2</th>\n",
       "      <td>41</td>\n",
       "      <td>0</td>\n",
       "      <td>1270</td>\n",
       "      <td>1</td>\n",
       "      <td>0</td>\n",
       "      <td>2</td>\n",
       "      <td>5</td>\n",
       "      <td>8</td>\n",
       "      <td>1389</td>\n",
       "      <td>1</td>\n",
       "      <td>...</td>\n",
       "      <td>1</td>\n",
       "      <td>0</td>\n",
       "      <td>0</td>\n",
       "      <td>0</td>\n",
       "      <td>1</td>\n",
       "      <td>0</td>\n",
       "      <td>0</td>\n",
       "      <td>1</td>\n",
       "      <td>0</td>\n",
       "      <td>0</td>\n",
       "    </tr>\n",
       "    <tr>\n",
       "      <th>3</th>\n",
       "      <td>55</td>\n",
       "      <td>0</td>\n",
       "      <td>2476</td>\n",
       "      <td>1</td>\n",
       "      <td>0</td>\n",
       "      <td>2</td>\n",
       "      <td>5</td>\n",
       "      <td>8</td>\n",
       "      <td>579</td>\n",
       "      <td>1</td>\n",
       "      <td>...</td>\n",
       "      <td>0</td>\n",
       "      <td>0</td>\n",
       "      <td>0</td>\n",
       "      <td>0</td>\n",
       "      <td>1</td>\n",
       "      <td>0</td>\n",
       "      <td>0</td>\n",
       "      <td>1</td>\n",
       "      <td>0</td>\n",
       "      <td>0</td>\n",
       "    </tr>\n",
       "    <tr>\n",
       "      <th>4</th>\n",
       "      <td>54</td>\n",
       "      <td>0</td>\n",
       "      <td>184</td>\n",
       "      <td>0</td>\n",
       "      <td>0</td>\n",
       "      <td>2</td>\n",
       "      <td>5</td>\n",
       "      <td>8</td>\n",
       "      <td>673</td>\n",
       "      <td>2</td>\n",
       "      <td>...</td>\n",
       "      <td>0</td>\n",
       "      <td>0</td>\n",
       "      <td>0</td>\n",
       "      <td>0</td>\n",
       "      <td>1</td>\n",
       "      <td>0</td>\n",
       "      <td>0</td>\n",
       "      <td>0</td>\n",
       "      <td>1</td>\n",
       "      <td>0</td>\n",
       "    </tr>\n",
       "  </tbody>\n",
       "</table>\n",
       "<p>5 rows × 33 columns</p>\n",
       "</div>"
      ],
      "text/plain": [
       "   age  default  balance  housing  loan  contact  day  month  duration  \\\n",
       "0   59        0     2343        1     0        2    5      8      1042   \n",
       "1   56        0       45        0     0        2    5      8      1467   \n",
       "2   41        0     1270        1     0        2    5      8      1389   \n",
       "3   55        0     2476        1     0        2    5      8       579   \n",
       "4   54        0      184        0     0        2    5      8       673   \n",
       "\n",
       "   campaign  ...  job_technician  job_unemployed  job_unknown  \\\n",
       "0         1  ...               0               0            0   \n",
       "1         1  ...               0               0            0   \n",
       "2         1  ...               1               0            0   \n",
       "3         1  ...               0               0            0   \n",
       "4         2  ...               0               0            0   \n",
       "\n",
       "   marital_divorced  marital_married  marital_single  education_primary  \\\n",
       "0                 0                1               0                  0   \n",
       "1                 0                1               0                  0   \n",
       "2                 0                1               0                  0   \n",
       "3                 0                1               0                  0   \n",
       "4                 0                1               0                  0   \n",
       "\n",
       "   education_secondary  education_tertiary  education_unknown  \n",
       "0                    1                   0                  0  \n",
       "1                    1                   0                  0  \n",
       "2                    1                   0                  0  \n",
       "3                    1                   0                  0  \n",
       "4                    0                   1                  0  \n",
       "\n",
       "[5 rows x 33 columns]"
      ]
     },
     "execution_count": 21,
     "metadata": {},
     "output_type": "execute_result"
    }
   ],
   "source": [
    "df.head()"
   ]
  },
  {
   "cell_type": "code",
   "execution_count": 22,
   "id": "e3386858",
   "metadata": {},
   "outputs": [
    {
     "data": {
      "text/plain": [
       "Index(['age', 'default', 'balance', 'housing', 'loan', 'contact', 'day',\n",
       "       'month', 'duration', 'campaign', 'pdays', 'previous', 'poutcome',\n",
       "       'deposit', 'job_admin.', 'job_blue-collar', 'job_entrepreneur',\n",
       "       'job_housemaid', 'job_management', 'job_retired', 'job_self-employed',\n",
       "       'job_services', 'job_student', 'job_technician', 'job_unemployed',\n",
       "       'job_unknown', 'marital_divorced', 'marital_married', 'marital_single',\n",
       "       'education_primary', 'education_secondary', 'education_tertiary',\n",
       "       'education_unknown'],\n",
       "      dtype='object')"
      ]
     },
     "execution_count": 22,
     "metadata": {},
     "output_type": "execute_result"
    }
   ],
   "source": [
    "df.columns"
   ]
  },
  {
   "cell_type": "markdown",
   "id": "bcc70c83",
   "metadata": {},
   "source": [
    "#### dropping of redundant features\n",
    "1.Day. It is just stated day with no year. there is relationship with the target feature\n",
    "\n",
    "2.pdays the number of days that passed by after the client was last contacted from a previous campaign has no relationship with the target column"
   ]
  },
  {
   "cell_type": "code",
   "execution_count": 23,
   "id": "f704d8a4",
   "metadata": {},
   "outputs": [
    {
     "name": "stdout",
     "output_type": "stream",
     "text": [
      "(11162, 31)\n"
     ]
    },
    {
     "data": {
      "text/html": [
       "<div>\n",
       "<style scoped>\n",
       "    .dataframe tbody tr th:only-of-type {\n",
       "        vertical-align: middle;\n",
       "    }\n",
       "\n",
       "    .dataframe tbody tr th {\n",
       "        vertical-align: top;\n",
       "    }\n",
       "\n",
       "    .dataframe thead th {\n",
       "        text-align: right;\n",
       "    }\n",
       "</style>\n",
       "<table border=\"1\" class=\"dataframe\">\n",
       "  <thead>\n",
       "    <tr style=\"text-align: right;\">\n",
       "      <th></th>\n",
       "      <th>age</th>\n",
       "      <th>default</th>\n",
       "      <th>balance</th>\n",
       "      <th>housing</th>\n",
       "      <th>loan</th>\n",
       "      <th>contact</th>\n",
       "      <th>month</th>\n",
       "      <th>duration</th>\n",
       "      <th>campaign</th>\n",
       "      <th>previous</th>\n",
       "      <th>...</th>\n",
       "      <th>job_technician</th>\n",
       "      <th>job_unemployed</th>\n",
       "      <th>job_unknown</th>\n",
       "      <th>marital_divorced</th>\n",
       "      <th>marital_married</th>\n",
       "      <th>marital_single</th>\n",
       "      <th>education_primary</th>\n",
       "      <th>education_secondary</th>\n",
       "      <th>education_tertiary</th>\n",
       "      <th>education_unknown</th>\n",
       "    </tr>\n",
       "  </thead>\n",
       "  <tbody>\n",
       "    <tr>\n",
       "      <th>0</th>\n",
       "      <td>59</td>\n",
       "      <td>0</td>\n",
       "      <td>2343</td>\n",
       "      <td>1</td>\n",
       "      <td>0</td>\n",
       "      <td>2</td>\n",
       "      <td>8</td>\n",
       "      <td>1042</td>\n",
       "      <td>1</td>\n",
       "      <td>0</td>\n",
       "      <td>...</td>\n",
       "      <td>0</td>\n",
       "      <td>0</td>\n",
       "      <td>0</td>\n",
       "      <td>0</td>\n",
       "      <td>1</td>\n",
       "      <td>0</td>\n",
       "      <td>0</td>\n",
       "      <td>1</td>\n",
       "      <td>0</td>\n",
       "      <td>0</td>\n",
       "    </tr>\n",
       "    <tr>\n",
       "      <th>1</th>\n",
       "      <td>56</td>\n",
       "      <td>0</td>\n",
       "      <td>45</td>\n",
       "      <td>0</td>\n",
       "      <td>0</td>\n",
       "      <td>2</td>\n",
       "      <td>8</td>\n",
       "      <td>1467</td>\n",
       "      <td>1</td>\n",
       "      <td>0</td>\n",
       "      <td>...</td>\n",
       "      <td>0</td>\n",
       "      <td>0</td>\n",
       "      <td>0</td>\n",
       "      <td>0</td>\n",
       "      <td>1</td>\n",
       "      <td>0</td>\n",
       "      <td>0</td>\n",
       "      <td>1</td>\n",
       "      <td>0</td>\n",
       "      <td>0</td>\n",
       "    </tr>\n",
       "    <tr>\n",
       "      <th>2</th>\n",
       "      <td>41</td>\n",
       "      <td>0</td>\n",
       "      <td>1270</td>\n",
       "      <td>1</td>\n",
       "      <td>0</td>\n",
       "      <td>2</td>\n",
       "      <td>8</td>\n",
       "      <td>1389</td>\n",
       "      <td>1</td>\n",
       "      <td>0</td>\n",
       "      <td>...</td>\n",
       "      <td>1</td>\n",
       "      <td>0</td>\n",
       "      <td>0</td>\n",
       "      <td>0</td>\n",
       "      <td>1</td>\n",
       "      <td>0</td>\n",
       "      <td>0</td>\n",
       "      <td>1</td>\n",
       "      <td>0</td>\n",
       "      <td>0</td>\n",
       "    </tr>\n",
       "    <tr>\n",
       "      <th>3</th>\n",
       "      <td>55</td>\n",
       "      <td>0</td>\n",
       "      <td>2476</td>\n",
       "      <td>1</td>\n",
       "      <td>0</td>\n",
       "      <td>2</td>\n",
       "      <td>8</td>\n",
       "      <td>579</td>\n",
       "      <td>1</td>\n",
       "      <td>0</td>\n",
       "      <td>...</td>\n",
       "      <td>0</td>\n",
       "      <td>0</td>\n",
       "      <td>0</td>\n",
       "      <td>0</td>\n",
       "      <td>1</td>\n",
       "      <td>0</td>\n",
       "      <td>0</td>\n",
       "      <td>1</td>\n",
       "      <td>0</td>\n",
       "      <td>0</td>\n",
       "    </tr>\n",
       "    <tr>\n",
       "      <th>4</th>\n",
       "      <td>54</td>\n",
       "      <td>0</td>\n",
       "      <td>184</td>\n",
       "      <td>0</td>\n",
       "      <td>0</td>\n",
       "      <td>2</td>\n",
       "      <td>8</td>\n",
       "      <td>673</td>\n",
       "      <td>2</td>\n",
       "      <td>0</td>\n",
       "      <td>...</td>\n",
       "      <td>0</td>\n",
       "      <td>0</td>\n",
       "      <td>0</td>\n",
       "      <td>0</td>\n",
       "      <td>1</td>\n",
       "      <td>0</td>\n",
       "      <td>0</td>\n",
       "      <td>0</td>\n",
       "      <td>1</td>\n",
       "      <td>0</td>\n",
       "    </tr>\n",
       "  </tbody>\n",
       "</table>\n",
       "<p>5 rows × 31 columns</p>\n",
       "</div>"
      ],
      "text/plain": [
       "   age  default  balance  housing  loan  contact  month  duration  campaign  \\\n",
       "0   59        0     2343        1     0        2      8      1042         1   \n",
       "1   56        0       45        0     0        2      8      1467         1   \n",
       "2   41        0     1270        1     0        2      8      1389         1   \n",
       "3   55        0     2476        1     0        2      8       579         1   \n",
       "4   54        0      184        0     0        2      8       673         2   \n",
       "\n",
       "   previous  ...  job_technician  job_unemployed  job_unknown  \\\n",
       "0         0  ...               0               0            0   \n",
       "1         0  ...               0               0            0   \n",
       "2         0  ...               1               0            0   \n",
       "3         0  ...               0               0            0   \n",
       "4         0  ...               0               0            0   \n",
       "\n",
       "   marital_divorced  marital_married  marital_single  education_primary  \\\n",
       "0                 0                1               0                  0   \n",
       "1                 0                1               0                  0   \n",
       "2                 0                1               0                  0   \n",
       "3                 0                1               0                  0   \n",
       "4                 0                1               0                  0   \n",
       "\n",
       "   education_secondary  education_tertiary  education_unknown  \n",
       "0                    1                   0                  0  \n",
       "1                    1                   0                  0  \n",
       "2                    1                   0                  0  \n",
       "3                    1                   0                  0  \n",
       "4                    0                   1                  0  \n",
       "\n",
       "[5 rows x 31 columns]"
      ]
     },
     "execution_count": 23,
     "metadata": {},
     "output_type": "execute_result"
    }
   ],
   "source": [
    "df2=df.drop(['day',\"pdays\"], axis=1)\n",
    "print(df2.shape)\n",
    "\n",
    "df2.head()"
   ]
  },
  {
   "cell_type": "markdown",
   "id": "348ca80b",
   "metadata": {},
   "source": [
    "## To check out on outliers\n"
   ]
  },
  {
   "cell_type": "code",
   "execution_count": 24,
   "id": "66182e7e",
   "metadata": {},
   "outputs": [
    {
     "data": {
      "text/plain": [
       "<AxesSubplot:>"
      ]
     },
     "execution_count": 24,
     "metadata": {},
     "output_type": "execute_result"
    },
    {
     "data": {
      "image/png": "[encoded data removed]",
      "text/plain": [
       "<Figure size 432x288 with 1 Axes>"
      ]
     },
     "metadata": {},
     "output_type": "display_data"
    }
   ],
   "source": [
    "df2[[\"age\",\"balance\",\"duration\",\"campaign\",\"previous\"]].plot(kind=\"box\")"
   ]
  },
  {
   "cell_type": "markdown",
   "id": "76192dfe",
   "metadata": {},
   "source": [
    "## Observation\n",
    "We have outliers in the following features that should be handled;\n",
    "    . Age\n",
    "    . Balance\n",
    "    . Duration\n",
    "    . campaign\n"
   ]
  },
  {
   "cell_type": "code",
   "execution_count": 25,
   "id": "73e59318",
   "metadata": {},
   "outputs": [],
   "source": [
    "\n",
    "df2.drop(df2[(df2[\"balance\"]>40000)|(df2[\"balance\"]<0)].index,inplace=True,axis=0)"
   ]
  },
  {
   "cell_type": "code",
   "execution_count": 26,
   "id": "0bec46ca",
   "metadata": {},
   "outputs": [],
   "source": [
    "df2.drop(df2[(df2[\"age\"]>80)|(df2[\"age\"]<0)].index,inplace=True,axis=0)"
   ]
  },
  {
   "cell_type": "code",
   "execution_count": 27,
   "id": "d2fa07f2",
   "metadata": {},
   "outputs": [],
   "source": [
    "df2.drop(df2[df2[\"duration\"]>3000].index,inplace=True,axis=0)"
   ]
  },
  {
   "cell_type": "code",
   "execution_count": 28,
   "id": "6c6ede7f",
   "metadata": {},
   "outputs": [],
   "source": [
    "df2.drop(df2[df2[\"campaign\"]>30].index,inplace=True,axis=0)"
   ]
  },
  {
   "cell_type": "code",
   "execution_count": null,
   "id": "d386418b",
   "metadata": {},
   "outputs": [],
   "source": []
  },
  {
   "cell_type": "markdown",
   "id": "85b8a334",
   "metadata": {},
   "source": [
    "## Feature scaling"
   ]
  },
  {
   "cell_type": "code",
   "execution_count": 29,
   "id": "b3177235",
   "metadata": {},
   "outputs": [],
   "source": [
    "sc = StandardScaler()\n",
    "df2[\"balance\"] = sc.fit_transform(df2[[\"balance\"]])\n",
    "df2[\"age\"] = sc.fit_transform(df2[[\"age\"]])\n",
    "df2[\"duration\"] = sc.fit_transform(df2[[\"duration\"]])\n",
    "df2[\"campaign\"] = sc.fit_transform(df2[[\"campaign\"]])"
   ]
  },
  {
   "cell_type": "code",
   "execution_count": 30,
   "id": "6351fbe4",
   "metadata": {},
   "outputs": [
    {
     "name": "stdout",
     "output_type": "stream",
     "text": [
      "Mean: 1.9580743355181109e-16\n",
      "Standard Deviation: 1.0000480757674428\n"
     ]
    }
   ],
   "source": [
    "## to check if the continuous columns have been scaled. it should be scaled to a mean of 0, and std deviation of 1\n",
    "## e.g balance\n",
    "print('Mean:', df2[\"balance\"].mean())\n",
    "print('Standard Deviation:', df2[\"balance\"].std())\n"
   ]
  },
  {
   "cell_type": "code",
   "execution_count": 31,
   "id": "54aef216",
   "metadata": {},
   "outputs": [
    {
     "data": {
      "text/html": [
       "<div>\n",
       "<style scoped>\n",
       "    .dataframe tbody tr th:only-of-type {\n",
       "        vertical-align: middle;\n",
       "    }\n",
       "\n",
       "    .dataframe tbody tr th {\n",
       "        vertical-align: top;\n",
       "    }\n",
       "\n",
       "    .dataframe thead th {\n",
       "        text-align: right;\n",
       "    }\n",
       "</style>\n",
       "<table border=\"1\" class=\"dataframe\">\n",
       "  <thead>\n",
       "    <tr style=\"text-align: right;\">\n",
       "      <th></th>\n",
       "      <th>age</th>\n",
       "      <th>default</th>\n",
       "      <th>balance</th>\n",
       "      <th>housing</th>\n",
       "      <th>loan</th>\n",
       "      <th>contact</th>\n",
       "      <th>month</th>\n",
       "      <th>duration</th>\n",
       "      <th>campaign</th>\n",
       "      <th>previous</th>\n",
       "      <th>...</th>\n",
       "      <th>job_technician</th>\n",
       "      <th>job_unemployed</th>\n",
       "      <th>job_unknown</th>\n",
       "      <th>marital_divorced</th>\n",
       "      <th>marital_married</th>\n",
       "      <th>marital_single</th>\n",
       "      <th>education_primary</th>\n",
       "      <th>education_secondary</th>\n",
       "      <th>education_tertiary</th>\n",
       "      <th>education_unknown</th>\n",
       "    </tr>\n",
       "  </thead>\n",
       "  <tbody>\n",
       "    <tr>\n",
       "      <th>0</th>\n",
       "      <td>1.535907</td>\n",
       "      <td>0</td>\n",
       "      <td>0.261310</td>\n",
       "      <td>1</td>\n",
       "      <td>0</td>\n",
       "      <td>2</td>\n",
       "      <td>8</td>\n",
       "      <td>1.984913</td>\n",
       "      <td>-0.588292</td>\n",
       "      <td>0</td>\n",
       "      <td>...</td>\n",
       "      <td>0</td>\n",
       "      <td>0</td>\n",
       "      <td>0</td>\n",
       "      <td>0</td>\n",
       "      <td>1</td>\n",
       "      <td>0</td>\n",
       "      <td>0</td>\n",
       "      <td>1</td>\n",
       "      <td>0</td>\n",
       "      <td>0</td>\n",
       "    </tr>\n",
       "    <tr>\n",
       "      <th>1</th>\n",
       "      <td>1.278462</td>\n",
       "      <td>0</td>\n",
       "      <td>-0.550005</td>\n",
       "      <td>0</td>\n",
       "      <td>0</td>\n",
       "      <td>2</td>\n",
       "      <td>8</td>\n",
       "      <td>3.239395</td>\n",
       "      <td>-0.588292</td>\n",
       "      <td>0</td>\n",
       "      <td>...</td>\n",
       "      <td>0</td>\n",
       "      <td>0</td>\n",
       "      <td>0</td>\n",
       "      <td>0</td>\n",
       "      <td>1</td>\n",
       "      <td>0</td>\n",
       "      <td>0</td>\n",
       "      <td>1</td>\n",
       "      <td>0</td>\n",
       "      <td>0</td>\n",
       "    </tr>\n",
       "    <tr>\n",
       "      <th>2</th>\n",
       "      <td>-0.008762</td>\n",
       "      <td>0</td>\n",
       "      <td>-0.117516</td>\n",
       "      <td>1</td>\n",
       "      <td>0</td>\n",
       "      <td>2</td>\n",
       "      <td>8</td>\n",
       "      <td>3.009161</td>\n",
       "      <td>-0.588292</td>\n",
       "      <td>0</td>\n",
       "      <td>...</td>\n",
       "      <td>1</td>\n",
       "      <td>0</td>\n",
       "      <td>0</td>\n",
       "      <td>0</td>\n",
       "      <td>1</td>\n",
       "      <td>0</td>\n",
       "      <td>0</td>\n",
       "      <td>1</td>\n",
       "      <td>0</td>\n",
       "      <td>0</td>\n",
       "    </tr>\n",
       "    <tr>\n",
       "      <th>3</th>\n",
       "      <td>1.192647</td>\n",
       "      <td>0</td>\n",
       "      <td>0.308266</td>\n",
       "      <td>1</td>\n",
       "      <td>0</td>\n",
       "      <td>2</td>\n",
       "      <td>8</td>\n",
       "      <td>0.618264</td>\n",
       "      <td>-0.588292</td>\n",
       "      <td>0</td>\n",
       "      <td>...</td>\n",
       "      <td>0</td>\n",
       "      <td>0</td>\n",
       "      <td>0</td>\n",
       "      <td>0</td>\n",
       "      <td>1</td>\n",
       "      <td>0</td>\n",
       "      <td>0</td>\n",
       "      <td>1</td>\n",
       "      <td>0</td>\n",
       "      <td>0</td>\n",
       "    </tr>\n",
       "    <tr>\n",
       "      <th>4</th>\n",
       "      <td>1.106832</td>\n",
       "      <td>0</td>\n",
       "      <td>-0.500931</td>\n",
       "      <td>0</td>\n",
       "      <td>0</td>\n",
       "      <td>2</td>\n",
       "      <td>8</td>\n",
       "      <td>0.895726</td>\n",
       "      <td>-0.188029</td>\n",
       "      <td>0</td>\n",
       "      <td>...</td>\n",
       "      <td>0</td>\n",
       "      <td>0</td>\n",
       "      <td>0</td>\n",
       "      <td>0</td>\n",
       "      <td>1</td>\n",
       "      <td>0</td>\n",
       "      <td>0</td>\n",
       "      <td>0</td>\n",
       "      <td>1</td>\n",
       "      <td>0</td>\n",
       "    </tr>\n",
       "  </tbody>\n",
       "</table>\n",
       "<p>5 rows × 31 columns</p>\n",
       "</div>"
      ],
      "text/plain": [
       "        age  default   balance  housing  loan  contact  month  duration  \\\n",
       "0  1.535907        0  0.261310        1     0        2      8  1.984913   \n",
       "1  1.278462        0 -0.550005        0     0        2      8  3.239395   \n",
       "2 -0.008762        0 -0.117516        1     0        2      8  3.009161   \n",
       "3  1.192647        0  0.308266        1     0        2      8  0.618264   \n",
       "4  1.106832        0 -0.500931        0     0        2      8  0.895726   \n",
       "\n",
       "   campaign  previous  ...  job_technician  job_unemployed  job_unknown  \\\n",
       "0 -0.588292         0  ...               0               0            0   \n",
       "1 -0.588292         0  ...               0               0            0   \n",
       "2 -0.588292         0  ...               1               0            0   \n",
       "3 -0.588292         0  ...               0               0            0   \n",
       "4 -0.188029         0  ...               0               0            0   \n",
       "\n",
       "   marital_divorced  marital_married  marital_single  education_primary  \\\n",
       "0                 0                1               0                  0   \n",
       "1                 0                1               0                  0   \n",
       "2                 0                1               0                  0   \n",
       "3                 0                1               0                  0   \n",
       "4                 0                1               0                  0   \n",
       "\n",
       "   education_secondary  education_tertiary  education_unknown  \n",
       "0                    1                   0                  0  \n",
       "1                    1                   0                  0  \n",
       "2                    1                   0                  0  \n",
       "3                    1                   0                  0  \n",
       "4                    0                   1                  0  \n",
       "\n",
       "[5 rows x 31 columns]"
      ]
     },
     "execution_count": 31,
     "metadata": {},
     "output_type": "execute_result"
    }
   ],
   "source": [
    "df2.head()"
   ]
  },
  {
   "cell_type": "markdown",
   "id": "330e43b3",
   "metadata": {},
   "source": [
    "## Spliting dataframe"
   ]
  },
  {
   "cell_type": "code",
   "execution_count": 32,
   "id": "5491664a",
   "metadata": {},
   "outputs": [],
   "source": [
    "## To split the dataframe into features(x) and label(y)\n",
    "X= df2.drop(columns=[\"deposit\"])   #Feature Matrix\n",
    "y=df2[\"deposit\"] ## label\n"
   ]
  },
  {
   "cell_type": "code",
   "execution_count": 33,
   "id": "9fccb60c",
   "metadata": {},
   "outputs": [
    {
     "data": {
      "text/html": [
       "<div>\n",
       "<style scoped>\n",
       "    .dataframe tbody tr th:only-of-type {\n",
       "        vertical-align: middle;\n",
       "    }\n",
       "\n",
       "    .dataframe tbody tr th {\n",
       "        vertical-align: top;\n",
       "    }\n",
       "\n",
       "    .dataframe thead th {\n",
       "        text-align: right;\n",
       "    }\n",
       "</style>\n",
       "<table border=\"1\" class=\"dataframe\">\n",
       "  <thead>\n",
       "    <tr style=\"text-align: right;\">\n",
       "      <th></th>\n",
       "      <th>age</th>\n",
       "      <th>default</th>\n",
       "      <th>balance</th>\n",
       "      <th>housing</th>\n",
       "      <th>loan</th>\n",
       "      <th>contact</th>\n",
       "      <th>month</th>\n",
       "      <th>duration</th>\n",
       "      <th>campaign</th>\n",
       "      <th>previous</th>\n",
       "      <th>...</th>\n",
       "      <th>job_technician</th>\n",
       "      <th>job_unemployed</th>\n",
       "      <th>job_unknown</th>\n",
       "      <th>marital_divorced</th>\n",
       "      <th>marital_married</th>\n",
       "      <th>marital_single</th>\n",
       "      <th>education_primary</th>\n",
       "      <th>education_secondary</th>\n",
       "      <th>education_tertiary</th>\n",
       "      <th>education_unknown</th>\n",
       "    </tr>\n",
       "  </thead>\n",
       "  <tbody>\n",
       "    <tr>\n",
       "      <th>0</th>\n",
       "      <td>1.535907</td>\n",
       "      <td>0</td>\n",
       "      <td>0.261310</td>\n",
       "      <td>1</td>\n",
       "      <td>0</td>\n",
       "      <td>2</td>\n",
       "      <td>8</td>\n",
       "      <td>1.984913</td>\n",
       "      <td>-0.588292</td>\n",
       "      <td>0</td>\n",
       "      <td>...</td>\n",
       "      <td>0</td>\n",
       "      <td>0</td>\n",
       "      <td>0</td>\n",
       "      <td>0</td>\n",
       "      <td>1</td>\n",
       "      <td>0</td>\n",
       "      <td>0</td>\n",
       "      <td>1</td>\n",
       "      <td>0</td>\n",
       "      <td>0</td>\n",
       "    </tr>\n",
       "    <tr>\n",
       "      <th>1</th>\n",
       "      <td>1.278462</td>\n",
       "      <td>0</td>\n",
       "      <td>-0.550005</td>\n",
       "      <td>0</td>\n",
       "      <td>0</td>\n",
       "      <td>2</td>\n",
       "      <td>8</td>\n",
       "      <td>3.239395</td>\n",
       "      <td>-0.588292</td>\n",
       "      <td>0</td>\n",
       "      <td>...</td>\n",
       "      <td>0</td>\n",
       "      <td>0</td>\n",
       "      <td>0</td>\n",
       "      <td>0</td>\n",
       "      <td>1</td>\n",
       "      <td>0</td>\n",
       "      <td>0</td>\n",
       "      <td>1</td>\n",
       "      <td>0</td>\n",
       "      <td>0</td>\n",
       "    </tr>\n",
       "    <tr>\n",
       "      <th>2</th>\n",
       "      <td>-0.008762</td>\n",
       "      <td>0</td>\n",
       "      <td>-0.117516</td>\n",
       "      <td>1</td>\n",
       "      <td>0</td>\n",
       "      <td>2</td>\n",
       "      <td>8</td>\n",
       "      <td>3.009161</td>\n",
       "      <td>-0.588292</td>\n",
       "      <td>0</td>\n",
       "      <td>...</td>\n",
       "      <td>1</td>\n",
       "      <td>0</td>\n",
       "      <td>0</td>\n",
       "      <td>0</td>\n",
       "      <td>1</td>\n",
       "      <td>0</td>\n",
       "      <td>0</td>\n",
       "      <td>1</td>\n",
       "      <td>0</td>\n",
       "      <td>0</td>\n",
       "    </tr>\n",
       "    <tr>\n",
       "      <th>3</th>\n",
       "      <td>1.192647</td>\n",
       "      <td>0</td>\n",
       "      <td>0.308266</td>\n",
       "      <td>1</td>\n",
       "      <td>0</td>\n",
       "      <td>2</td>\n",
       "      <td>8</td>\n",
       "      <td>0.618264</td>\n",
       "      <td>-0.588292</td>\n",
       "      <td>0</td>\n",
       "      <td>...</td>\n",
       "      <td>0</td>\n",
       "      <td>0</td>\n",
       "      <td>0</td>\n",
       "      <td>0</td>\n",
       "      <td>1</td>\n",
       "      <td>0</td>\n",
       "      <td>0</td>\n",
       "      <td>1</td>\n",
       "      <td>0</td>\n",
       "      <td>0</td>\n",
       "    </tr>\n",
       "    <tr>\n",
       "      <th>4</th>\n",
       "      <td>1.106832</td>\n",
       "      <td>0</td>\n",
       "      <td>-0.500931</td>\n",
       "      <td>0</td>\n",
       "      <td>0</td>\n",
       "      <td>2</td>\n",
       "      <td>8</td>\n",
       "      <td>0.895726</td>\n",
       "      <td>-0.188029</td>\n",
       "      <td>0</td>\n",
       "      <td>...</td>\n",
       "      <td>0</td>\n",
       "      <td>0</td>\n",
       "      <td>0</td>\n",
       "      <td>0</td>\n",
       "      <td>1</td>\n",
       "      <td>0</td>\n",
       "      <td>0</td>\n",
       "      <td>0</td>\n",
       "      <td>1</td>\n",
       "      <td>0</td>\n",
       "    </tr>\n",
       "  </tbody>\n",
       "</table>\n",
       "<p>5 rows × 30 columns</p>\n",
       "</div>"
      ],
      "text/plain": [
       "        age  default   balance  housing  loan  contact  month  duration  \\\n",
       "0  1.535907        0  0.261310        1     0        2      8  1.984913   \n",
       "1  1.278462        0 -0.550005        0     0        2      8  3.239395   \n",
       "2 -0.008762        0 -0.117516        1     0        2      8  3.009161   \n",
       "3  1.192647        0  0.308266        1     0        2      8  0.618264   \n",
       "4  1.106832        0 -0.500931        0     0        2      8  0.895726   \n",
       "\n",
       "   campaign  previous  ...  job_technician  job_unemployed  job_unknown  \\\n",
       "0 -0.588292         0  ...               0               0            0   \n",
       "1 -0.588292         0  ...               0               0            0   \n",
       "2 -0.588292         0  ...               1               0            0   \n",
       "3 -0.588292         0  ...               0               0            0   \n",
       "4 -0.188029         0  ...               0               0            0   \n",
       "\n",
       "   marital_divorced  marital_married  marital_single  education_primary  \\\n",
       "0                 0                1               0                  0   \n",
       "1                 0                1               0                  0   \n",
       "2                 0                1               0                  0   \n",
       "3                 0                1               0                  0   \n",
       "4                 0                1               0                  0   \n",
       "\n",
       "   education_secondary  education_tertiary  education_unknown  \n",
       "0                    1                   0                  0  \n",
       "1                    1                   0                  0  \n",
       "2                    1                   0                  0  \n",
       "3                    1                   0                  0  \n",
       "4                    0                   1                  0  \n",
       "\n",
       "[5 rows x 30 columns]"
      ]
     },
     "execution_count": 33,
     "metadata": {},
     "output_type": "execute_result"
    }
   ],
   "source": [
    "X.head()"
   ]
  },
  {
   "cell_type": "markdown",
   "id": "1805a596",
   "metadata": {},
   "source": [
    "##  Feature selection and Training"
   ]
  },
  {
   "cell_type": "code",
   "execution_count": 34,
   "id": "97de5a7b",
   "metadata": {},
   "outputs": [],
   "source": [
    "## To reduce dimensionality \n",
    "from sklearn.decomposition import PCA\n",
    "pca=PCA()\n",
    "transfromed_x=pca.fit_transform(X)\n",
    "\n",
    "## to train test \n",
    "from sklearn.model_selection import train_test_split\n",
    "from sklearn.metrics import classification_report,confusion_matrix,accuracy_score\n",
    "X_train,X_test,y_train,y_test=train_test_split(transfromed_x,y,test_size=0.25,random_state=0)\n"
   ]
  },
  {
   "cell_type": "markdown",
   "id": "253029f5",
   "metadata": {},
   "source": [
    "## Modelling"
   ]
  },
  {
   "cell_type": "code",
   "execution_count": 35,
   "id": "17d57e18",
   "metadata": {},
   "outputs": [
    {
     "name": "stdout",
     "output_type": "stream",
     "text": [
      "LogisticRegression Training Accuracy: 0.7934615384615384\n",
      "LogisticRegression Testing Accuracy: 0.7858515955401768\n",
      "\n",
      "\n",
      "SVC Training Accuracy: 0.8384615384615385\n",
      "SVC Testing Accuracy: 0.8193002691272587\n",
      "\n",
      "\n",
      "KNeighborsClassifier Training Accuracy: 0.8514102564102564\n",
      "KNeighborsClassifier Testing Accuracy: 0.7989234909650135\n",
      "\n",
      "\n",
      "RandomForestClassifier Training Accuracy: 1.0\n",
      "RandomForestClassifier Testing Accuracy: 0.8100730488273741\n",
      "\n",
      "\n",
      "DecisionTreeClassifier Training Accuracy: 1.0\n",
      "DecisionTreeClassifier Testing Accuracy: 0.740484429065744\n",
      "\n",
      "\n",
      "GaussianNB Training Accuracy: 0.7324358974358974\n",
      "GaussianNB Testing Accuracy: 0.7239523260284506\n",
      "\n",
      "\n",
      "BaggingClassifier Training Accuracy: 0.9882051282051282\n",
      "BaggingClassifier Testing Accuracy: 0.7950788158400616\n",
      "\n",
      "\n"
     ]
    }
   ],
   "source": [
    "#### to fit  to various models and test their accuracy\n",
    "logr = LogisticRegression(random_state = 0)\n",
    "svm_c = SVC(random_state = 0)\n",
    "knc = KNeighborsClassifier()\n",
    "rfc = RandomForestClassifier(random_state = 0)\n",
    "dtc = DecisionTreeClassifier(random_state = 0)\n",
    "gnb = GaussianNB()\n",
    "bc = BaggingClassifier(random_state = 0)\n",
    "\n",
    "models = {'LogisticRegression': logr, 'SVC': svm_c, 'KNeighborsClassifier': knc, 'RandomForestClassifier': rfc, 'DecisionTreeClassifier':dtc, 'GaussianNB': gnb, 'BaggingClassifier': bc}\n",
    "def model_training_testing(models):\n",
    "    for model_name, model in models.items():\n",
    "        model.fit(X_train, y_train)\n",
    "        y_predict_trian = model.predict(X_train)\n",
    "        y_predict_test = model.predict(X_test)\n",
    "        print(f'{model_name} Training Accuracy:', accuracy_score(y_train, np.round(y_predict_trian)))\n",
    "        print(f'{model_name} Testing Accuracy:', accuracy_score(y_test, np.round(y_predict_test)))\n",
    "        print('\\n')\n",
    "model_training_testing(models)"
   ]
  },
  {
   "cell_type": "markdown",
   "id": "7974951c",
   "metadata": {},
   "source": [
    "##### # Our best  model from the above is  SVC"
   ]
  },
  {
   "cell_type": "markdown",
   "id": "85d13263",
   "metadata": {},
   "source": [
    "##  Hyperparameter tuning of our best model"
   ]
  },
  {
   "cell_type": "code",
   "execution_count": 36,
   "id": "ade2dbec",
   "metadata": {},
   "outputs": [
    {
     "data": {
      "text/plain": [
       "SVC(C=1, gamma=0.1)"
      ]
     },
     "execution_count": 36,
     "metadata": {},
     "output_type": "execute_result"
    }
   ],
   "source": [
    "#  Let's do hyperparameter tuning to our model\n",
    "from sklearn.model_selection import GridSearchCV\n",
    "svm_c= SVC()\n",
    "param_grid = {'C': [0.1, 1, 10, 100, 1000],\n",
    "              'gamma': [1, 0.1, 0.01, 0.001, 0.0001],\n",
    "              'kernel': ['rbf']}\n",
    " \n",
    "grid = GridSearchCV(svm_c, param_grid, refit = True, verbose = 3)\n",
    "grid_search = GridSearchCV(svm_c, param_grid)\n",
    "grid_search.fit(X_train, y_train)\n",
    "\n",
    "grid_search.best_estimator_"
   ]
  },
  {
   "cell_type": "code",
   "execution_count": 37,
   "id": "c44605dc",
   "metadata": {},
   "outputs": [],
   "source": [
    "svc_htuned = SVC(C=1)"
   ]
  },
  {
   "cell_type": "code",
   "execution_count": 38,
   "id": "739be341",
   "metadata": {},
   "outputs": [
    {
     "data": {
      "text/plain": [
       "SVC(C=1)"
      ]
     },
     "execution_count": 38,
     "metadata": {},
     "output_type": "execute_result"
    }
   ],
   "source": [
    "svc_htuned .fit(X_train, y_train)"
   ]
  },
  {
   "cell_type": "markdown",
   "id": "982f5fed",
   "metadata": {},
   "source": [
    "##  Evaluation"
   ]
  },
  {
   "cell_type": "code",
   "execution_count": 39,
   "id": "885a72b5",
   "metadata": {},
   "outputs": [],
   "source": [
    "def model_evaluation(model, X, y, model_name):\n",
    "    y_predict = model.predict(X)\n",
    "    print(f'Model: {model_name} \\n \\n Classification Report: {classification_report(y, y_predict)}')\n",
    "\n",
    "    cnf_matrix = confusion_matrix(y, y_predict)\n",
    "    \n",
    "    class_names = [0, 1]\n",
    "    tick_marks = np.arange(len(class_names))\n",
    "    plt.figure(figsize = (9, 7))\n",
    "\n",
    "    sns.heatmap(pd.DataFrame(cnf_matrix), annot = True, cmap = \"YlGnBu\", fmt = 'g')\n",
    "\n",
    "    plt.title(f'{model_name} Confusion Matrix', y = 1.1, fontsize = 22)\n",
    "    plt.ylabel('Actual Label', fontsize = 15)\n",
    "    plt.xlabel('Predicted Label', fontsize = 15)"
   ]
  },
  {
   "cell_type": "code",
   "execution_count": 40,
   "id": "eacbdf2e",
   "metadata": {},
   "outputs": [
    {
     "name": "stdout",
     "output_type": "stream",
     "text": [
      "Model: SVC \n",
      " \n",
      " Classification Report:               precision    recall  f1-score   support\n",
      "\n",
      "           0       0.84      0.81      0.83      1384\n",
      "           1       0.80      0.83      0.81      1217\n",
      "\n",
      "    accuracy                           0.82      2601\n",
      "   macro avg       0.82      0.82      0.82      2601\n",
      "weighted avg       0.82      0.82      0.82      2601\n",
      "\n"
     ]
    },
    {
     "data": {
      "image/png": "[encoded data removed]",
      "text/plain": [
       "<Figure size 648x504 with 2 Axes>"
      ]
     },
     "metadata": {},
     "output_type": "display_data"
    }
   ],
   "source": [
    "model_evaluation(svc_htuned, X_test, y_test, model_name = 'SVC')"
   ]
  },
  {
   "cell_type": "markdown",
   "id": "05347110",
   "metadata": {},
   "source": [
    "## Saving our model"
   ]
  },
  {
   "cell_type": "code",
   "execution_count": 41,
   "id": "a0297ec1",
   "metadata": {},
   "outputs": [],
   "source": [
    "import pickle\n",
    " \n",
    "pickle.dump(svc_htuned, open('Svm_Model.pkl', 'wb'))"
   ]
  },
  {
   "cell_type": "markdown",
   "id": "713427a5",
   "metadata": {},
   "source": [
    "## Feature importance"
   ]
  },
  {
   "cell_type": "code",
   "execution_count": 42,
   "id": "5d0b701e",
   "metadata": {},
   "outputs": [
    {
     "data": {
      "text/plain": [
       "ExtraTreesClassifier()"
      ]
     },
     "execution_count": 42,
     "metadata": {},
     "output_type": "execute_result"
    }
   ],
   "source": [
    "\n",
    "from sklearn.ensemble import ExtraTreesClassifier\n",
    "ex=ExtraTreesClassifier()\n",
    "ex.fit(X,y)\n"
   ]
  },
  {
   "cell_type": "code",
   "execution_count": 43,
   "id": "0359f25c",
   "metadata": {},
   "outputs": [
    {
     "data": {
      "image/png": "[encoded data removed]",
      "text/plain": [
       "<Figure size 432x288 with 1 Axes>"
      ]
     },
     "metadata": {},
     "output_type": "display_data"
    }
   ],
   "source": [
    "feature_importance=pd.Series(ex.feature_importances_,index=X.columns)\n",
    "feature_importance.nlargest(15).plot(kind=\"barh\")\n",
    "plt.show()"
   ]
  },
  {
   "cell_type": "markdown",
   "id": "6ac4eabd",
   "metadata": {},
   "source": [
    "####  Recommendation\n",
    "1.Duration - Clearly, duration plays an important role to whether a customer will subscribe to the term deposit or not.\n",
    " When making contact to the clients, they should take a longer duration to explain to the customers in detail aboout the term \n",
    " deposits so as to convience customers to subscribe \n",
    " 2.Balance- Clients with a bigger balance should be contacted more \n",
    " 3.Age\n",
    " 4.Month and Campaigns- major campaigns should be done in the months of May, August,July and June\n",
    "5.Contact - they should make more contact with clients using the cellular channel\n",
    "6.\n"
   ]
  },
  {
   "cell_type": "markdown",
   "id": "d7376aa5",
   "metadata": {},
   "source": []
  },
  {
   "cell_type": "code",
   "execution_count": null,
   "id": "387e71a2",
   "metadata": {},
   "outputs": [],
   "source": []
  }
 ],
 "metadata": {
  "kernelspec": {
   "display_name": "Python 3 (ipykernel)",
   "language": "python",
   "name": "python3"
  },
  "language_info": {
   "codemirror_mode": {
    "name": "ipython",
    "version": 3
   },
   "file_extension": ".py",
   "mimetype": "text/x-python",
   "name": "python",
   "nbconvert_exporter": "python",
   "pygments_lexer": "ipython3",
   "version": "3.9.7"
  }
 },
 "nbformat": 4,
 "nbformat_minor": 5
}
